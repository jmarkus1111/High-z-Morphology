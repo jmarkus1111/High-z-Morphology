{
 "cells": [
  {
   "cell_type": "code",
   "execution_count": 1,
   "metadata": {},
   "outputs": [
    {
     "name": "stdout",
     "output_type": "stream",
     "text": [
      "Estimating the background light ... ... ...\n",
      "The negative PSF values are corrected as 0 values.\n",
      "The data_process is ready to go to pass to FittingSpecify!\n",
      "The settings for the fitting is done. Ready to pass to FittingProcess. \n",
      "  However, please make updates manullay if needed.\n",
      "MCMC selected. Sampling with default option emcee.\n"
     ]
    },
    {
     "name": "stderr",
     "output_type": "stream",
     "text": [
      "100%|██████████| 130/130 [01:30<00:00,  1.43it/s]\n"
     ]
    },
    {
     "name": "stdout",
     "output_type": "stream",
     "text": [
      "Computing the MCMC...\n",
      "Number of walkers =  180\n",
      "Burn-in iterations:  100\n",
      "Sampling iterations (in current run): 130\n",
      "91.82102632522583 time taken for MCMC sampling\n",
      "MCMC selected. Sampling with default option emcee.\n",
      "re-using previous samples to initialize the next MCMC run.\n"
     ]
    },
    {
     "name": "stderr",
     "output_type": "stream",
     "text": [
      "100%|██████████| 300/300 [06:03<00:00,  1.21s/it]\n"
     ]
    },
    {
     "name": "stdout",
     "output_type": "stream",
     "text": [
      "Computing the MCMC...\n",
      "Number of walkers =  180\n",
      "Burn-in iterations:  100\n",
      "Sampling iterations (in current run): 300\n",
      "364.56474900245667 time taken for MCMC sampling\n",
      "456.867 total time taken for the overall fitting (s)\n",
      "============ CONGRATULATION, YOUR JOB WAS SUCCESSFUL ================ \n",
      "Start transfering the Params to fluxs...\n",
      "10000 MCMC samplers in total, finished translate: 0\n",
      "10000 MCMC samplers in total, finished translate: 1000\n",
      "10000 MCMC samplers in total, finished translate: 2000\n",
      "10000 MCMC samplers in total, finished translate: 3000\n",
      "10000 MCMC samplers in total, finished translate: 4000\n",
      "10000 MCMC samplers in total, finished translate: 5000\n",
      "10000 MCMC samplers in total, finished translate: 6000\n",
      "10000 MCMC samplers in total, finished translate: 7000\n"
     ]
    }
   ],
   "source": [
    "# fit 1 object\n",
    "\n",
    "from fitting_pipeline import fit_object\n",
    "\n",
    "object = '2750_3084'\n",
    "data_dir = '/Users/jmark/OneDrive/Desktop/DARK REU/morphology_fitting/data'\n",
    "psf_dir = '/Users/jmark/OneDrive/Desktop/DARK REU/morphology_fitting/morph/PSF'\n",
    "save_dir = '/Users/jmark/OneDrive/Desktop/DARK REU/morphology_fitting/saves'\n",
    "nsigma = 1.9\n",
    "npixels = 4\n",
    "\n",
    "fit_object(object, data_dir, psf_dir, save_dir, nsigma, npixels)"
   ]
  },
  {
   "cell_type": "code",
   "execution_count": null,
   "metadata": {},
   "outputs": [],
   "source": [
    "# fit all objects\n",
    "\n",
    "from fitting_pipeline import fit_all_objects\n",
    "\n",
    "data_dir = '/Users/jmark/OneDrive/Desktop/DARK REU/morphology_fitting/data'\n",
    "psf_dir = '/Users/jmark/OneDrive/Desktop/DARK REU/morphology_fitting/morph/PSF'\n",
    "save_dir = '/Users/jmark/OneDrive/Desktop/DARK REU/morphology_fitting/saves'\n",
    "nsigma = 1.9\n",
    "npixels = 4\n",
    "\n",
    "fit_all_objects(data_dir, psf_dir, save_dir, nsigma, npixels) "
   ]
  },
  {
   "cell_type": "code",
   "execution_count": null,
   "metadata": {},
   "outputs": [],
   "source": [
    "# calculate and save weighted residual for object already fitted\n",
    "\n",
    "import pickle as pkl\n",
    "from weighted_residual import calc_weighted_residual\n",
    "\n",
    "object = '2750_7'\n",
    "save_dir = '/Users/jmark/OneDrive/Desktop/DARK REU/morphology_fitting/saves'\n",
    "results_dir = '/Users/jmark/OneDrive/Desktop/DARK REU/morphology_fitting/morph/results'\n",
    "\n",
    "calc_weighted_residual(object, save_dir, results_dir)"
   ]
  },
  {
   "cell_type": "code",
   "execution_count": 1,
   "metadata": {},
   "outputs": [
    {
     "name": "stdout",
     "output_type": "stream",
     "text": [
      "2750_0: 4.591462708449206\n",
      "2750_1: 12.12844975628578\n",
      "2750_2: 18.08506616506403\n",
      "2750_7: 14.603029125061173\n",
      "2750_10: 25.532312668537834\n",
      "2750_28: 28.11731587102465\n",
      "2750_64: 12.332519834304636\n",
      "2750_355: 3.8852957402422064\n",
      "2750_434: 5.340014725969535\n",
      "2750_445: 46.18788308604273\n",
      "2750_449: 5.623020301702773\n",
      "2750_617: 25.263225101267842\n",
      "2750_662: 4.877238423743597\n",
      "2750_663: 37.83152225082551\n",
      "2750_781: 8.546317476301072\n",
      "2750_783: 1.3878214909163429\n",
      "2750_840: 4.928199143333695\n",
      "2750_923: 4.717380831982713\n",
      "2750_952: 2.451628021998254\n",
      "2750_1292: 6.096772488417833\n",
      "2750_1586: 952.0749850377738\n",
      "2750_1598: 710.5720681378467\n",
      "2750_1636: 539.8830647467881\n",
      "2750_1768: 2.2470146874110832\n",
      "2750_2015: 20.983251721175566\n",
      "2750_2315: 8.672051578741234\n",
      "2750_2763: 71.70758033913778\n",
      "2750_3084: 28.30335161017911\n",
      "2750_3149: 122.29331865618279\n",
      "2750_3234: 26.39098479855193\n",
      "2750_3272: 1078.781686624507\n",
      "2750_7467: 30.34899942169432\n",
      "2750_7668: 9.147018165922328\n",
      "2750_8366: 2.3688360534929793\n",
      "2750_8507: 10.258286588826133\n",
      "2750_9020: 4.5831892271003\n",
      "2750_9026: 1.4885814649204443\n",
      "2750_9467: 1.916167451080252\n",
      "2750_9600: 19.429736761980706\n",
      "2750_9932: 27.991816301079346\n",
      "2750_9973: 5.231597003458702\n",
      "2750_10291: 2.5923328974654565\n",
      "2750_10618: 6.113307938523738\n",
      "2750_11315: 6.562481645011203\n",
      "2750_11318: 3.291197420730504\n",
      "2750_11518: 207.85237519679916\n",
      "2750_12431: 51.61823182473345\n",
      "2750_12462: 185.59809036517893\n",
      "2750_14516: 595.2880782477135\n",
      "2750_15057: 47.219328791333986\n",
      "2750_31266: 10.595188305177304\n"
     ]
    }
   ],
   "source": [
    "# calculate all weighted residuals\n",
    "\n",
    "from fitting_pipeline import calc_all_weighted_residuals\n",
    "\n",
    "data_dir = '/Users/jmark/OneDrive/Desktop/DARK REU/morphology_fitting/data'\n",
    "psf_dir = '/Users/jmark/OneDrive/Desktop/DARK REU/morphology_fitting/morph/PSF'\n",
    "save_dir = '/Users/jmark/OneDrive/Desktop/DARK REU/morphology_fitting/saves'\n",
    "nsigma = 1.9\n",
    "npixels = 4\n",
    "\n",
    "calc_all_weighted_residuals(data_dir, psf_dir, save_dir, nsigma=1.9, npixels=4)"
   ]
  },
  {
   "cell_type": "code",
   "execution_count": 2,
   "metadata": {},
   "outputs": [],
   "source": [
    "# make combinded PDF\n",
    "\n",
    "from fitting_pipeline import merge_plots\n",
    "\n",
    "save_dir = '/Users/jmark/OneDrive/Desktop/DARK REU/morphology_fitting/saves'\n",
    "program_ID = '2750'\n",
    "nsigma = 1.9\n",
    "npixels = 4\n",
    "output_dir = '/Users/jmark/OneDrive/Desktop/DARK REU/morphology_fitting'\n",
    "\n",
    "merge_plots(save_dir, program_ID, nsigma, npixels, output_dir)"
   ]
  },
  {
   "cell_type": "code",
   "execution_count": 1,
   "metadata": {},
   "outputs": [
    {
     "name": "stdout",
     "output_type": "stream",
     "text": [
      "{0: 4.591462708449206, 1: 12.12844975628578, 2: 18.08506616506403, 7: 14.603029125061173, 10: 25.532312668537834, 28: 28.11731587102465, 64: 12.332519834304636, 355: 3.8852957402422064, 434: 5.340014725969535, 445: 46.18788308604273, 449: 5.623020301702773, 617: 25.263225101267842, 662: 4.877238423743597, 663: 37.83152225082551, 781: 8.546317476301072, 783: 1.3878214909163429, 840: 4.928199143333695, 923: 4.717380831982713, 952: 2.451628021998254, 1292: 6.096772488417833, 1586: 952.0749850377738, 1598: 710.5720681378467, 1636: 539.8830647467881, 1768: 2.2470146874110832, 2015: 20.983251721175566, 2315: 8.672051578741234, 2763: 71.70758033913778, 3084: 28.30335161017911, 3149: 122.29331865618279, 3234: 26.39098479855193, 3272: 1078.781686624507, 7467: 30.34899942169432, 7668: 9.147018165922328, 8366: 2.3688360534929793, 8507: 10.258286588826133, 9020: 4.5831892271003, 9026: 1.4885814649204443, 9467: 1.916167451080252, 9600: 19.429736761980706, 9932: 27.991816301079346, 9973: 5.231597003458702, 10291: 2.5923328974654565, 10618: 6.113307938523738, 11315: 6.562481645011203, 11318: 3.291197420730504, 11518: 207.85237519679916, 12431: 51.61823182473345, 12462: 185.59809036517893, 14516: 595.2880782477135, 15057: 47.219328791333986, 31266: 10.595188305177304}\n"
     ]
    }
   ],
   "source": [
    "# make dict of weighted residuals\n",
    "\n",
    "import pickle as pkl\n",
    "from fitting_pipeline import merge_weighted_residuals\n",
    "\n",
    "results_dir = '/Users/jmark/OneDrive/Desktop/DARK REU/morphology_fitting/morph/results'\n",
    "program_ID = '2750'\n",
    "output_dir = '/Users/jmark/OneDrive/Desktop/DARK REU/morphology_fitting'\n",
    "\n",
    "merge_weighted_residuals(results_dir, program_ID, output_dir)\n",
    "\n",
    "with open(f'{output_dir}/{program_ID}_weighted_residuals_dict.pkl', 'rb') as handle:\n",
    "        weighted_residuals_dict = pkl.load(handle)\n",
    "print(weighted_residuals_dict)"
   ]
  }
 ],
 "metadata": {
  "kernelspec": {
   "display_name": "Python 3",
   "language": "python",
   "name": "python3"
  },
  "language_info": {
   "codemirror_mode": {
    "name": "ipython",
    "version": 3
   },
   "file_extension": ".py",
   "mimetype": "text/x-python",
   "name": "python",
   "nbconvert_exporter": "python",
   "pygments_lexer": "ipython3",
   "version": "3.9.19"
  }
 },
 "nbformat": 4,
 "nbformat_minor": 2
}
